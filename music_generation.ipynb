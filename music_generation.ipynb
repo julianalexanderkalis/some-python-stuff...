{
 "cells": [
  {
   "cell_type": "code",
   "execution_count": 1,
   "id": "ecological-tomato",
   "metadata": {},
   "outputs": [],
   "source": [
    "#library for understanding music\n",
    "from music21 import *"
   ]
  },
  {
   "cell_type": "code",
   "execution_count": 2,
   "id": "standard-danger",
   "metadata": {},
   "outputs": [],
   "source": [
    "#defining function to read MIDI files\n",
    "def read_midi(file):\n",
    "    \n",
    "    print(\"Loading Music File:\",file)\n",
    "    \n",
    "    notes=[]\n",
    "    notes_to_parse = None\n",
    "    \n",
    "    #parsing a midi file\n",
    "    midi = converter.parse(file)\n",
    "  \n",
    "    #grouping based on different instruments\n",
    "    s2 = instrument.partitionByInstrument(midi)\n",
    "\n",
    "    #Looping over all the instruments\n",
    "    for part in s2.parts:\n",
    "    \n",
    "        #select elements of only piano\n",
    "        if 'Piano' in str(part): \n",
    "        \n",
    "            notes_to_parse = part.recurse() \n",
    "      \n",
    "            #finding whether a particular element is note or a chord\n",
    "            for element in notes_to_parse:\n",
    "                \n",
    "                #note\n",
    "                if isinstance(element, note.Note):\n",
    "                    notes.append(str(element.pitch))\n",
    "                \n",
    "                #chord\n",
    "                elif isinstance(element, chord.Chord):\n",
    "                    notes.append('.'.join(str(n) for n in element.normalOrder))\n",
    "\n",
    "    return np.array(notes)"
   ]
  },
  {
   "cell_type": "code",
   "execution_count": 3,
   "id": "desirable-visiting",
   "metadata": {},
   "outputs": [
    {
     "name": "stdout",
     "output_type": "stream",
     "text": [
      "Loading Music File: C:/Users/julia/Downloads/deephouse/Jamie XX - Stranger In A Room (Bjorn Wolf Edit).mp3.mid\n"
     ]
    }
   ],
   "source": [
    "#for listing down the file names\n",
    "import os\n",
    "\n",
    "#Array Processing\n",
    "import numpy as np\n",
    "\n",
    "#specify the path\n",
    "path='C:/Users/julia/Downloads/deephouse/'\n",
    "\n",
    "#read all the filenames\n",
    "files=[i for i in os.listdir(path) if i.endswith(\".mid\")]\n",
    "\n",
    "#reading each midi file\n",
    "notes_array = np.array([read_midi(path+i) for i in files],dtype=object)"
   ]
  },
  {
   "cell_type": "code",
   "execution_count": 4,
   "id": "simple-julian",
   "metadata": {},
   "outputs": [
    {
     "name": "stdout",
     "output_type": "stream",
     "text": [
      "861\n"
     ]
    }
   ],
   "source": [
    "\n",
    "#converting 2D array into 1D array\n",
    "notes_ = [element for note_ in notes_array for element in note_]\n",
    "\n",
    "#No. of unique notes\n",
    "unique_notes = list(set(notes_))\n",
    "print(len(unique_notes))"
   ]
  },
  {
   "cell_type": "code",
   "execution_count": 5,
   "id": "double-blocking",
   "metadata": {},
   "outputs": [
    {
     "data": {
      "text/plain": [
       "(array([823.,  26.,   4.,   2.,   2.,   1.,   0.,   1.,   1.,   1.]),\n",
       " array([  1. ,  72.2, 143.4, 214.6, 285.8, 357. , 428.2, 499.4, 570.6,\n",
       "        641.8, 713. ]),\n",
       " <BarContainer object of 10 artists>)"
      ]
     },
     "execution_count": 5,
     "metadata": {},
     "output_type": "execute_result"
    },
    {
     "data": {
      "image/png": "[encoded data removed]",
      "text/plain": [
       "<Figure size 360x360 with 1 Axes>"
      ]
     },
     "metadata": {
      "image/png": {
       "height": 302,
       "width": 319
      },
      "needs_background": "light"
     },
     "output_type": "display_data"
    }
   ],
   "source": [
    "#importing library\n",
    "from collections import Counter\n",
    "\n",
    "#computing frequency of each note\n",
    "freq = dict(Counter(notes_))\n",
    "\n",
    "#library for visualiation\n",
    "import matplotlib.pyplot as plt\n",
    "\n",
    "#consider only the frequencies\n",
    "no=[count for _,count in freq.items()]\n",
    "\n",
    "#set the figure size\n",
    "plt.figure(figsize=(5,5))\n",
    "\n",
    "#plot\n",
    "plt.hist(no)"
   ]
  },
  {
   "cell_type": "code",
   "execution_count": 6,
   "id": "sonic-legislature",
   "metadata": {},
   "outputs": [
    {
     "name": "stdout",
     "output_type": "stream",
     "text": [
      "52\n"
     ]
    }
   ],
   "source": [
    "frequent_notes = [note_ for note_, count in freq.items() if count>=50]\n",
    "print(len(frequent_notes))"
   ]
  },
  {
   "cell_type": "code",
   "execution_count": 7,
   "id": "level-jacksonville",
   "metadata": {},
   "outputs": [],
   "source": [
    "new_music=[]\n",
    "\n",
    "for notes in notes_array:\n",
    "    temp=[]\n",
    "    for note_ in notes:\n",
    "        if note_ in frequent_notes:\n",
    "            temp.append(note_)            \n",
    "    new_music.append(temp)\n",
    "    \n",
    "new_music = np.array(new_music)"
   ]
  },
  {
   "cell_type": "code",
   "execution_count": 8,
   "id": "social-processor",
   "metadata": {},
   "outputs": [],
   "source": [
    "no_of_timesteps = 32\n",
    "x = []\n",
    "y = []\n",
    "\n",
    "for note_ in new_music:\n",
    "    for i in range(0, len(note_) - no_of_timesteps, 1):\n",
    "        \n",
    "        #preparing input and output sequences\n",
    "        input_ = note_[i:i + no_of_timesteps]\n",
    "        output = note_[i + no_of_timesteps]\n",
    "        \n",
    "        x.append(input_)\n",
    "        y.append(output)\n",
    "        \n",
    "x=np.array(x)\n",
    "y=np.array(y)"
   ]
  },
  {
   "cell_type": "code",
   "execution_count": 9,
   "id": "fleet-serbia",
   "metadata": {},
   "outputs": [],
   "source": [
    "unique_x = list(set(x.ravel()))\n",
    "x_note_to_int = dict((note_, number) for number, note_ in enumerate(unique_x))"
   ]
  },
  {
   "cell_type": "code",
   "execution_count": 10,
   "id": "decreased-bolivia",
   "metadata": {},
   "outputs": [],
   "source": [
    "#preparing input sequences\n",
    "x_seq=[]\n",
    "for i in x:\n",
    "    temp=[]\n",
    "    for j in i:\n",
    "        #assigning unique integer to every note\n",
    "        temp.append(x_note_to_int[j])\n",
    "    x_seq.append(temp)\n",
    "    \n",
    "x_seq = np.array(x_seq)"
   ]
  },
  {
   "cell_type": "code",
   "execution_count": 11,
   "id": "concrete-disposal",
   "metadata": {},
   "outputs": [],
   "source": [
    "unique_y = list(set(y))\n",
    "y_note_to_int = dict((note_, number) for number, note_ in enumerate(unique_y)) \n",
    "y_seq=np.array([y_note_to_int[i] for i in y])"
   ]
  },
  {
   "cell_type": "code",
   "execution_count": 12,
   "id": "typical-precipitation",
   "metadata": {},
   "outputs": [],
   "source": [
    "from sklearn.model_selection import train_test_split\n",
    "x_tr, x_val, y_tr, y_val = train_test_split(x_seq,y_seq,test_size=0.2,random_state=0)"
   ]
  },
  {
   "cell_type": "code",
   "execution_count": 13,
   "id": "satisfactory-render",
   "metadata": {},
   "outputs": [
    {
     "name": "stdout",
     "output_type": "stream",
     "text": [
      "Model: \"sequential\"\n",
      "_________________________________________________________________\n",
      "Layer (type)                 Output Shape              Param #   \n",
      "=================================================================\n",
      "embedding (Embedding)        (None, 32, 100)           5200      \n",
      "_________________________________________________________________\n",
      "conv1d (Conv1D)              (None, 32, 64)            19264     \n",
      "_________________________________________________________________\n",
      "dropout (Dropout)            (None, 32, 64)            0         \n",
      "_________________________________________________________________\n",
      "max_pooling1d (MaxPooling1D) (None, 16, 64)            0         \n",
      "_________________________________________________________________\n",
      "conv1d_1 (Conv1D)            (None, 16, 128)           24704     \n",
      "_________________________________________________________________\n",
      "dropout_1 (Dropout)          (None, 16, 128)           0         \n",
      "_________________________________________________________________\n",
      "max_pooling1d_1 (MaxPooling1 (None, 8, 128)            0         \n",
      "_________________________________________________________________\n",
      "conv1d_2 (Conv1D)            (None, 8, 256)            98560     \n",
      "_________________________________________________________________\n",
      "dropout_2 (Dropout)          (None, 8, 256)            0         \n",
      "_________________________________________________________________\n",
      "max_pooling1d_2 (MaxPooling1 (None, 4, 256)            0         \n",
      "_________________________________________________________________\n",
      "global_max_pooling1d (Global (None, 256)               0         \n",
      "_________________________________________________________________\n",
      "dense (Dense)                (None, 256)               65792     \n",
      "_________________________________________________________________\n",
      "dense_1 (Dense)              (None, 52)                13364     \n",
      "=================================================================\n",
      "Total params: 226,884\n",
      "Trainable params: 226,884\n",
      "Non-trainable params: 0\n",
      "_________________________________________________________________\n"
     ]
    }
   ],
   "source": [
    "from keras.layers import *\n",
    "from keras.models import *\n",
    "from keras.callbacks import *\n",
    "import keras.backend as K\n",
    "\n",
    "K.clear_session()\n",
    "model = Sequential()\n",
    "    \n",
    "#embedding layer\n",
    "model.add(Embedding(len(unique_x), 100, input_length=32,trainable=True)) \n",
    "\n",
    "model.add(Conv1D(64,3, padding='causal',activation='relu'))\n",
    "model.add(Dropout(0.2))\n",
    "model.add(MaxPool1D(2))\n",
    "    \n",
    "model.add(Conv1D(128,3,activation='relu',dilation_rate=2,padding='causal'))\n",
    "model.add(Dropout(0.2))\n",
    "model.add(MaxPool1D(2))\n",
    "\n",
    "model.add(Conv1D(256,3,activation='relu',dilation_rate=4,padding='causal'))\n",
    "model.add(Dropout(0.2))\n",
    "model.add(MaxPool1D(2))\n",
    "          \n",
    "#model.add(Conv1D(256,5,activation='relu'))    \n",
    "model.add(GlobalMaxPool1D())\n",
    "    \n",
    "model.add(Dense(256, activation='relu'))\n",
    "model.add(Dense(len(unique_y), activation='softmax'))\n",
    "    \n",
    "model.compile(loss='sparse_categorical_crossentropy', optimizer='adam')\n",
    "\n",
    "model.summary()"
   ]
  },
  {
   "cell_type": "code",
   "execution_count": 14,
   "id": "stuffed-capital",
   "metadata": {},
   "outputs": [],
   "source": [
    "mc=ModelCheckpoint('best_model.h5', monitor='val_loss', mode='min', save_best_only=True,verbose=1)"
   ]
  },
  {
   "cell_type": "code",
   "execution_count": 15,
   "id": "handled-encyclopedia",
   "metadata": {},
   "outputs": [
    {
     "name": "stdout",
     "output_type": "stream",
     "text": [
      "Epoch 1/50\n",
      "47/47 [==============================] - 4s 72ms/step - loss: 3.7628 - val_loss: 3.6584\n",
      "\n",
      "Epoch 00001: val_loss improved from inf to 3.65838, saving model to best_model.h5\n",
      "Epoch 2/50\n",
      "47/47 [==============================] - 2s 51ms/step - loss: 3.5527 - val_loss: 3.6104\n",
      "\n",
      "Epoch 00002: val_loss improved from 3.65838 to 3.61038, saving model to best_model.h5\n",
      "Epoch 3/50\n",
      "47/47 [==============================] - 3s 58ms/step - loss: 3.4994 - val_loss: 3.5442\n",
      "\n",
      "Epoch 00003: val_loss improved from 3.61038 to 3.54421, saving model to best_model.h5\n",
      "Epoch 4/50\n",
      "47/47 [==============================] - 2s 52ms/step - loss: 3.4396 - val_loss: 3.4902\n",
      "\n",
      "Epoch 00004: val_loss improved from 3.54421 to 3.49021, saving model to best_model.h5\n",
      "Epoch 5/50\n",
      "47/47 [==============================] - 3s 61ms/step - loss: 3.4184 - val_loss: 3.4502\n",
      "\n",
      "Epoch 00005: val_loss improved from 3.49021 to 3.45018, saving model to best_model.h5\n",
      "Epoch 6/50\n",
      "47/47 [==============================] - 3s 69ms/step - loss: 3.3306 - val_loss: 3.4138\n",
      "\n",
      "Epoch 00006: val_loss improved from 3.45018 to 3.41379, saving model to best_model.h5\n",
      "Epoch 7/50\n",
      "47/47 [==============================] - 4s 86ms/step - loss: 3.2666 - val_loss: 3.3444\n",
      "\n",
      "Epoch 00007: val_loss improved from 3.41379 to 3.34439, saving model to best_model.h5\n",
      "Epoch 8/50\n",
      "47/47 [==============================] - 4s 82ms/step - loss: 3.2113 - val_loss: 3.3230\n",
      "\n",
      "Epoch 00008: val_loss improved from 3.34439 to 3.32304, saving model to best_model.h5\n",
      "Epoch 9/50\n",
      "47/47 [==============================] - 3s 73ms/step - loss: 3.1526 - val_loss: 3.3081\n",
      "\n",
      "Epoch 00009: val_loss improved from 3.32304 to 3.30815, saving model to best_model.h5\n",
      "Epoch 10/50\n",
      "47/47 [==============================] - 4s 91ms/step - loss: 3.1400 - val_loss: 3.2927\n",
      "\n",
      "Epoch 00010: val_loss improved from 3.30815 to 3.29273, saving model to best_model.h5\n",
      "Epoch 11/50\n",
      "47/47 [==============================] - 4s 76ms/step - loss: 3.0919 - val_loss: 3.2786\n",
      "\n",
      "Epoch 00011: val_loss improved from 3.29273 to 3.27862, saving model to best_model.h5\n",
      "Epoch 12/50\n",
      "47/47 [==============================] - 3s 72ms/step - loss: 3.0679 - val_loss: 3.2611\n",
      "\n",
      "Epoch 00012: val_loss improved from 3.27862 to 3.26112, saving model to best_model.h5\n",
      "Epoch 13/50\n",
      "47/47 [==============================] - 3s 72ms/step - loss: 3.0271 - val_loss: 3.2549\n",
      "\n",
      "Epoch 00013: val_loss improved from 3.26112 to 3.25492, saving model to best_model.h5\n",
      "Epoch 14/50\n",
      "47/47 [==============================] - 4s 75ms/step - loss: 2.9845 - val_loss: 3.2526\n",
      "\n",
      "Epoch 00014: val_loss improved from 3.25492 to 3.25255, saving model to best_model.h5\n",
      "Epoch 15/50\n",
      "47/47 [==============================] - 4s 78ms/step - loss: 2.9522 - val_loss: 3.2294\n",
      "\n",
      "Epoch 00015: val_loss improved from 3.25255 to 3.22936, saving model to best_model.h5\n",
      "Epoch 16/50\n",
      "47/47 [==============================] - 4s 86ms/step - loss: 2.9278 - val_loss: 3.2322\n",
      "\n",
      "Epoch 00016: val_loss did not improve from 3.22936\n",
      "Epoch 17/50\n",
      "47/47 [==============================] - 3s 69ms/step - loss: 2.9113 - val_loss: 3.2534\n",
      "\n",
      "Epoch 00017: val_loss did not improve from 3.22936\n",
      "Epoch 18/50\n",
      "47/47 [==============================] - 4s 89ms/step - loss: 2.8534 - val_loss: 3.2458\n",
      "\n",
      "Epoch 00018: val_loss did not improve from 3.22936\n",
      "Epoch 19/50\n",
      "47/47 [==============================] - 5s 107ms/step - loss: 2.8525 - val_loss: 3.2349\n",
      "\n",
      "Epoch 00019: val_loss did not improve from 3.22936\n",
      "Epoch 20/50\n",
      "47/47 [==============================] - 4s 89ms/step - loss: 2.8232 - val_loss: 3.2284\n",
      "\n",
      "Epoch 00020: val_loss improved from 3.22936 to 3.22844, saving model to best_model.h5\n",
      "Epoch 21/50\n",
      "47/47 [==============================] - 4s 92ms/step - loss: 2.7833 - val_loss: 3.2349\n",
      "\n",
      "Epoch 00021: val_loss did not improve from 3.22844\n",
      "Epoch 22/50\n",
      "47/47 [==============================] - 4s 94ms/step - loss: 2.7356 - val_loss: 3.2476\n",
      "\n",
      "Epoch 00022: val_loss did not improve from 3.22844\n",
      "Epoch 23/50\n",
      "47/47 [==============================] - 4s 94ms/step - loss: 2.7541 - val_loss: 3.2402\n",
      "\n",
      "Epoch 00023: val_loss did not improve from 3.22844\n",
      "Epoch 24/50\n",
      "47/47 [==============================] - 4s 91ms/step - loss: 2.6738 - val_loss: 3.2525\n",
      "\n",
      "Epoch 00024: val_loss did not improve from 3.22844\n",
      "Epoch 25/50\n",
      "47/47 [==============================] - 4s 88ms/step - loss: 2.6435 - val_loss: 3.2450\n",
      "\n",
      "Epoch 00025: val_loss did not improve from 3.22844\n",
      "Epoch 26/50\n",
      "47/47 [==============================] - 5s 97ms/step - loss: 2.6109 - val_loss: 3.2725\n",
      "\n",
      "Epoch 00026: val_loss did not improve from 3.22844\n",
      "Epoch 27/50\n",
      "47/47 [==============================] - 4s 92ms/step - loss: 2.5940 - val_loss: 3.2777\n",
      "\n",
      "Epoch 00027: val_loss did not improve from 3.22844\n",
      "Epoch 28/50\n",
      "47/47 [==============================] - 4s 91ms/step - loss: 2.5495 - val_loss: 3.3002\n",
      "\n",
      "Epoch 00028: val_loss did not improve from 3.22844\n",
      "Epoch 29/50\n",
      "47/47 [==============================] - 4s 91ms/step - loss: 2.5467 - val_loss: 3.2858\n",
      "\n",
      "Epoch 00029: val_loss did not improve from 3.22844\n",
      "Epoch 30/50\n",
      "47/47 [==============================] - 5s 96ms/step - loss: 2.4867 - val_loss: 3.3237\n",
      "\n",
      "Epoch 00030: val_loss did not improve from 3.22844\n",
      "Epoch 31/50\n",
      "47/47 [==============================] - 4s 91ms/step - loss: 2.4857 - val_loss: 3.3389\n",
      "\n",
      "Epoch 00031: val_loss did not improve from 3.22844\n",
      "Epoch 32/50\n",
      "47/47 [==============================] - 4s 92ms/step - loss: 2.4141 - val_loss: 3.3424\n",
      "\n",
      "Epoch 00032: val_loss did not improve from 3.22844\n",
      "Epoch 33/50\n",
      "47/47 [==============================] - 4s 93ms/step - loss: 2.4014 - val_loss: 3.3491\n",
      "\n",
      "Epoch 00033: val_loss did not improve from 3.22844\n",
      "Epoch 34/50\n",
      "47/47 [==============================] - 4s 95ms/step - loss: 2.3763 - val_loss: 3.3649\n",
      "\n",
      "Epoch 00034: val_loss did not improve from 3.22844\n",
      "Epoch 35/50\n",
      "47/47 [==============================] - 4s 95ms/step - loss: 2.2992 - val_loss: 3.4161\n",
      "\n",
      "Epoch 00035: val_loss did not improve from 3.22844\n",
      "Epoch 36/50\n",
      "47/47 [==============================] - 4s 91ms/step - loss: 2.3185 - val_loss: 3.4398\n",
      "\n",
      "Epoch 00036: val_loss did not improve from 3.22844\n",
      "Epoch 37/50\n",
      "47/47 [==============================] - 4s 96ms/step - loss: 2.2700 - val_loss: 3.4360\n",
      "\n",
      "Epoch 00037: val_loss did not improve from 3.22844\n",
      "Epoch 38/50\n",
      "47/47 [==============================] - 4s 93ms/step - loss: 2.2291 - val_loss: 3.4330\n",
      "\n",
      "Epoch 00038: val_loss did not improve from 3.22844\n",
      "Epoch 39/50\n",
      "47/47 [==============================] - 4s 91ms/step - loss: 2.2146 - val_loss: 3.4861\n",
      "\n",
      "Epoch 00039: val_loss did not improve from 3.22844\n",
      "Epoch 40/50\n",
      "47/47 [==============================] - 4s 91ms/step - loss: 2.1743 - val_loss: 3.4670\n",
      "\n",
      "Epoch 00040: val_loss did not improve from 3.22844\n",
      "Epoch 41/50\n",
      "47/47 [==============================] - 4s 96ms/step - loss: 2.1177 - val_loss: 3.5068\n",
      "\n",
      "Epoch 00041: val_loss did not improve from 3.22844\n",
      "Epoch 42/50\n",
      "47/47 [==============================] - 4s 92ms/step - loss: 2.1091 - val_loss: 3.5041\n",
      "\n",
      "Epoch 00042: val_loss did not improve from 3.22844\n",
      "Epoch 43/50\n",
      "47/47 [==============================] - 4s 90ms/step - loss: 2.0830 - val_loss: 3.5272\n",
      "\n",
      "Epoch 00043: val_loss did not improve from 3.22844\n",
      "Epoch 44/50\n",
      "47/47 [==============================] - 4s 93ms/step - loss: 2.0326 - val_loss: 3.5578\n",
      "\n",
      "Epoch 00044: val_loss did not improve from 3.22844\n",
      "Epoch 45/50\n",
      "47/47 [==============================] - 5s 98ms/step - loss: 1.9938 - val_loss: 3.5452\n",
      "\n",
      "Epoch 00045: val_loss did not improve from 3.22844\n",
      "Epoch 46/50\n",
      "47/47 [==============================] - 4s 89ms/step - loss: 1.9979 - val_loss: 3.6001\n",
      "\n",
      "Epoch 00046: val_loss did not improve from 3.22844\n",
      "Epoch 47/50\n",
      "47/47 [==============================] - 4s 93ms/step - loss: 1.9942 - val_loss: 3.6165\n",
      "\n",
      "Epoch 00047: val_loss did not improve from 3.22844\n",
      "Epoch 48/50\n",
      "47/47 [==============================] - 4s 95ms/step - loss: 1.9622 - val_loss: 3.6350\n",
      "\n",
      "Epoch 00048: val_loss did not improve from 3.22844\n",
      "Epoch 49/50\n",
      "47/47 [==============================] - 4s 93ms/step - loss: 1.9102 - val_loss: 3.6644\n",
      "\n",
      "Epoch 00049: val_loss did not improve from 3.22844\n",
      "Epoch 50/50\n",
      "47/47 [==============================] - 4s 90ms/step - loss: 1.8832 - val_loss: 3.6786\n",
      "\n",
      "Epoch 00050: val_loss did not improve from 3.22844\n"
     ]
    }
   ],
   "source": [
    "history = model.fit(np.array(x_tr),np.array(y_tr),batch_size=128,epochs=50, validation_data=(np.array(x_val),np.array(y_val)),verbose=1, callbacks=[mc])"
   ]
  },
  {
   "cell_type": "code",
   "execution_count": 16,
   "id": "little-wallpaper",
   "metadata": {},
   "outputs": [],
   "source": [
    "#loading best model\n",
    "from keras.models import load_model\n",
    "model = load_model('best_model.h5')"
   ]
  },
  {
   "cell_type": "code",
   "execution_count": 22,
   "id": "expected-alarm",
   "metadata": {},
   "outputs": [
    {
     "name": "stdout",
     "output_type": "stream",
     "text": [
      "[33, 20, 20, 33, 33, 20, 20, 33, 15, 33, 33, 14, 14, 14, 14, 20, 20, 33, 14, 33, 33, 33, 14, 20, 20, 20, 20, 33, 33, 33, 33, 20, 20, 20, 33, 33, 20, 33, 14, 33, 33, 33, 14, 14, 20, 20, 20, 33, 33, 33, 33, 33, 20, 20, 20, 20, 20, 33, 33, 33, 33, 33, 20, 20, 33, 20, 20, 33, 33, 33, 33, 33, 33, 20, 20, 20, 20, 20, 20, 33, 33, 33, 33, 33, 20, 20, 20, 20, 20, 33, 33, 15, 15, 33, 20, 33, 20, 20, 20, 33]\n"
     ]
    }
   ],
   "source": [
    "import random\n",
    "ind = np.random.randint(0,len(x_val)-1)\n",
    "\n",
    "random_music = x_val[ind]\n",
    "\n",
    "predictions=[]\n",
    "for i in range(100):\n",
    "\n",
    "    random_music = random_music.reshape(1,no_of_timesteps)\n",
    "\n",
    "    prob  = model.predict(random_music)[0]\n",
    "    y_pred= np.argmax(prob,axis=0)\n",
    "    predictions.append(y_pred)\n",
    "\n",
    "    random_music = np.insert(random_music[0],len(random_music[0]),y_pred)\n",
    "    random_music = random_music[1:]\n",
    "    \n",
    "print(predictions)"
   ]
  },
  {
   "cell_type": "code",
   "execution_count": 23,
   "id": "settled-ozone",
   "metadata": {},
   "outputs": [],
   "source": [
    "x_int_to_note = dict((number, note_) for number, note_ in enumerate(unique_x)) \n",
    "predicted_notes = [x_int_to_note[i] for i in predictions]"
   ]
  },
  {
   "cell_type": "code",
   "execution_count": 24,
   "id": "spatial-ethiopia",
   "metadata": {},
   "outputs": [],
   "source": [
    "def convert_to_midi(prediction_output):\n",
    "   \n",
    "    offset = 0\n",
    "    output_notes = []\n",
    "\n",
    "    # create note and chord objects based on the values generated by the model\n",
    "    for pattern in prediction_output:\n",
    "        \n",
    "        # pattern is a chord\n",
    "        if ('.' in pattern) or pattern.isdigit():\n",
    "            notes_in_chord = pattern.split('.')\n",
    "            notes = []\n",
    "            for current_note in notes_in_chord:\n",
    "                \n",
    "                cn=int(current_note)\n",
    "                new_note = note.Note(cn)\n",
    "                new_note.storedInstrument = instrument.Piano()\n",
    "                notes.append(new_note)\n",
    "                \n",
    "            new_chord = chord.Chord(notes)\n",
    "            new_chord.offset = offset\n",
    "            output_notes.append(new_chord)\n",
    "            \n",
    "        # pattern is a note\n",
    "        else:\n",
    "            \n",
    "            new_note = note.Note(pattern)\n",
    "            new_note.offset = offset\n",
    "            new_note.storedInstrument = instrument.Piano()\n",
    "            output_notes.append(new_note)\n",
    "\n",
    "        # increase offset each iteration so that notes do not stack\n",
    "        offset += 1\n",
    "    midi_stream = stream.Stream(output_notes)\n",
    "    midi_stream.write('midi', fp='music.mid')"
   ]
  },
  {
   "cell_type": "code",
   "execution_count": 25,
   "id": "known-effect",
   "metadata": {},
   "outputs": [],
   "source": [
    "convert_to_midi(predicted_notes)"
   ]
  },
  {
   "cell_type": "code",
   "execution_count": null,
   "id": "heated-parcel",
   "metadata": {},
   "outputs": [],
   "source": []
  }
 ],
 "metadata": {
  "kernelspec": {
   "display_name": "Python 3",
   "language": "python",
   "name": "python3"
  },
  "language_info": {
   "codemirror_mode": {
    "name": "ipython",
    "version": 3
   },
   "file_extension": ".py",
   "mimetype": "text/x-python",
   "name": "python",
   "nbconvert_exporter": "python",
   "pygments_lexer": "ipython3",
   "version": "3.8.3"
  }
 },
 "nbformat": 4,
 "nbformat_minor": 5
}
